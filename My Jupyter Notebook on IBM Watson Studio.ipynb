{
 "cells": [
  {
   "cell_type": "markdown",
   "id": "afbc6487",
   "metadata": {},
   "source": [
    "# My Jupyter Notebook on IBM Watson Studio"
   ]
  },
  {
   "cell_type": "markdown",
   "id": "4066975c",
   "metadata": {},
   "source": [
    "### Ramiro Vasquez Di Zeo "
   ]
  },
  {
   "cell_type": "markdown",
   "id": "ab42481d",
   "metadata": {},
   "source": [
    "#### Aspirante a Cientifico de datos"
   ]
  },
  {
   "cell_type": "markdown",
   "id": "26b9d070",
   "metadata": {},
   "source": [
    "Creo que la ciencia de los datos es un area muy interesante ya que con la manipulacion adecuada de los datos podemos crear modelos que nos permitan suplir necesidades en cualquiera que sea nuestra area de interes."
   ]
  },
  {
   "cell_type": "markdown",
   "id": "83a2139f",
   "metadata": {},
   "source": [
    "### Codigo para mostrar la serie de Fibonacci"
   ]
  },
  {
   "cell_type": "code",
   "execution_count": 8,
   "id": "423cbf80",
   "metadata": {},
   "outputs": [
    {
     "name": "stdout",
     "output_type": "stream",
     "text": [
      "0\n",
      "1\n",
      "1\n",
      "2\n",
      "3\n",
      "5\n",
      "8\n",
      "13\n",
      "21\n",
      "34\n"
     ]
    }
   ],
   "source": [
    "def fibonacci(n):\n",
    "    a=1\n",
    "    b=1\n",
    "    if (n==1):\n",
    "        print('0')\n",
    "    elif (n==2):\n",
    "        print('0','1')\n",
    "    else:\n",
    "        print('0')\n",
    "        print(a)\n",
    "        print(b)\n",
    "        for i in range(n-3):\n",
    "            total=a+b\n",
    "            b=a\n",
    "            a=total\n",
    "            print(total)\n",
    "fibonacci(10)"
   ]
  },
  {
   "cell_type": "markdown",
   "id": "fc28eac2",
   "metadata": {},
   "source": [
    "| Serie de Fibonacci | Numero de iteraciones |\n",
    "| --- | --- |\n",
    "| OK | 10 |\n",
    "\n",
    "\n",
    "**_CONTENIDO_**\n",
    "\n",
    "1. Titulo\n",
    "2. Nombre\n",
    "3. Ocupación actual\n",
    "4. Descripcion Data Science\n",
    "5. Código serie de Fibonacci\n",
    "\n",
    "[LinkedIn](https://www.linkedin.com/in/ramiro-vasquez-di-zeo)"
   ]
  },
  {
   "cell_type": "code",
   "execution_count": null,
   "id": "11ebe71c",
   "metadata": {},
   "outputs": [],
   "source": []
  }
 ],
 "metadata": {
  "kernelspec": {
   "display_name": "Python 3 (ipykernel)",
   "language": "python",
   "name": "python3"
  },
  "language_info": {
   "codemirror_mode": {
    "name": "ipython",
    "version": 3
   },
   "file_extension": ".py",
   "mimetype": "text/x-python",
   "name": "python",
   "nbconvert_exporter": "python",
   "pygments_lexer": "ipython3",
   "version": "3.9.12"
  }
 },
 "nbformat": 4,
 "nbformat_minor": 5
}
